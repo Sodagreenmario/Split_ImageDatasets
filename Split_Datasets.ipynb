{
 "cells": [
  {
   "cell_type": "code",
   "execution_count": 1,
   "metadata": {},
   "outputs": [],
   "source": [
    "import os\n",
    "import sys\n",
    "import random\n",
    "import shutil\n",
    "from torchvision.datasets import ImageFolder"
   ]
  },
  {
   "cell_type": "code",
   "execution_count": 9,
   "metadata": {},
   "outputs": [
    {
     "data": {
      "text/plain": [
       "['27-29', '30-32', '33-35']"
      ]
     },
     "execution_count": 9,
     "metadata": {},
     "output_type": "execute_result"
    }
   ],
   "source": [
    "path = 'burrowingOwlPhotos'\n",
    "datasets = ImageFolder(path)\n",
    "dirnames = datasets.classes\n",
    "dirnames"
   ]
  },
  {
   "cell_type": "code",
   "execution_count": 11,
   "metadata": {},
   "outputs": [
    {
     "name": "stdout",
     "output_type": "stream",
     "text": [
      "burrowingOwlPhotos\\27-29\n",
      "burrowingOwlPhotos\\30-32\n",
      "burrowingOwlPhotos\\33-35\n"
     ]
    }
   ],
   "source": [
    "for dirname in dirnames:\n",
    "    i = 0\n",
    "    path_name = os.path.join(path, dirname)\n",
    "    print(path_name)\n",
    "    for item in os.listdir(path_name):\n",
    "            os.rename(os.path.join(path_name, item), os.path.join(path_name, (str(i)+'.JPG')))\n",
    "            i += 1"
   ]
  },
  {
   "cell_type": "code",
   "execution_count": 9,
   "metadata": {},
   "outputs": [],
   "source": [
    "if(os.path.exists('data') is False):\n",
    "    os.mkdir('data')\n",
    "if(os.path.exists('data/train') is False):\n",
    "    os.mkdir('data/train')\n",
    "if(os.path.exists('data/test') is False):\n",
    "    os.mkdir('data/test')\n",
    "if(os.path.exists('data/val') is False):\n",
    "    os.mkdir('data/val')"
   ]
  },
  {
   "cell_type": "code",
   "execution_count": null,
   "metadata": {
    "scrolled": false
   },
   "outputs": [
    {
     "name": "stdout",
     "output_type": "stream",
     "text": [
      "Path: burrowingOwlPhotos\\27-29\n",
      "\tThe Amount: 1449\n",
      " \tThe Size of Train Set: 914\n",
      " \tThe Size of Test Set: 144\n",
      " \tThe Size of Validation Set: 391\n",
      "\n",
      "Path: burrowingOwlPhotos\\30-32\n",
      "\tThe Amount: 1321\n",
      " \tThe Size of Train Set: 833\n",
      " \tThe Size of Test Set: 132\n",
      " \tThe Size of Validation Set: 356\n",
      "\n"
     ]
    }
   ],
   "source": [
    "train_path = 'data/train'\n",
    "test_path = 'data/test'\n",
    "val_path = 'data/val'\n",
    "\n",
    "for dirname in dirnames:\n",
    "    path_name = os.path.join(path, dirname)\n",
    "    Start = 0\n",
    "    allNum = len(os.listdir(path_name))\n",
    "    End = allNum - 1\n",
    "    test_Num = int(allNum * 0.1)\n",
    "    train_val_Num = allNum - test_Num\n",
    "    val_Num = int(train_val_Num * 0.3)\n",
    "    train_Num = train_val_Num - val_Num\n",
    "    \n",
    "    # Divide for test set\n",
    "    Original_List = [x for x in range(Start, End+1)]\n",
    "    test_Index = sorted(random.sample(Original_List, test_Num))\n",
    "    After_test = []\n",
    "    for x in test_Index:\n",
    "        Original_List.remove(x)\n",
    "    After_test = Original_List\n",
    "    \n",
    "    # Divide the rest into train set and validation set\n",
    "    val_Index = sorted(random.sample(After_test, val_Num))\n",
    "    train_Index = []\n",
    "    for x in val_Index:\n",
    "        After_test.remove(x)\n",
    "    train_Index = After_test\n",
    "    \n",
    "    # Move the file in to 'data/train', 'data/test', 'data/val'\n",
    "    print('Path: ' + path_name)\n",
    "    print('\\tThe Amount: ' + str(allNum) + '\\n', \n",
    "          '\\tThe Size of Train Set: ' + str(train_Num) + '\\n', \n",
    "          '\\tThe Size of Test Set: ' + str(test_Num) + '\\n', \n",
    "          '\\tThe Size of Validation Set: ' + str(val_Num) + '\\n')\n",
    "    for target in ['train', 'test', 'val']:\n",
    "        for index in vars()[target+'_Index']:\n",
    "            #os.rename(os.path.join(path_name, item), os.path.join(path_name, (str(i)+'.JPG')))\n",
    "            src_path = os.path.join(path_name, (str(index) + '.JPG'))\n",
    "            des_dir = os.path.join(os.path.join(os.path.join(os.getcwd(),'data'), target), dirname)\n",
    "            if os.path.isdir(des_dir)==False:\n",
    "                os.mkdir(des_dir)\n",
    "            des_path = os.path.join(des_dir, (dirname + str(index)+'.JPG'))\n",
    "            shutil.copy(src_path, des_path)"
   ]
  },
  {
   "cell_type": "code",
   "execution_count": null,
   "metadata": {},
   "outputs": [],
   "source": []
  }
 ],
 "metadata": {
  "kernelspec": {
   "display_name": "Python 3",
   "language": "python",
   "name": "python3"
  },
  "language_info": {
   "codemirror_mode": {
    "name": "ipython",
    "version": 3
   },
   "file_extension": ".py",
   "mimetype": "text/x-python",
   "name": "python",
   "nbconvert_exporter": "python",
   "pygments_lexer": "ipython3",
   "version": "3.7.3"
  }
 },
 "nbformat": 4,
 "nbformat_minor": 2
}
